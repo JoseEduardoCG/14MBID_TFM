{
 "cells": [
  {
   "cell_type": "markdown",
   "metadata": {
    "id": "o2uSlw0N_VxW"
   },
   "source": [
    "#Introducción\n",
    "---\n",
    "TFM: Aplicación de ciencia de datos en el sector de producción animal para la predicción y explicación de óptimos en ganado porcino.\n",
    "\n",
    "*Titulo*: **Regresión RandomForest**\n",
    "\n",
    "*Autor*: **Jose Eduardo Cámara Gómez**\n",
    "\n",
    "---\n"
   ]
  },
  {
   "cell_type": "markdown",
   "metadata": {
    "id": "ztdeYHXqhX-t"
   },
   "source": [
    "# Preparación y selección de variables para modelos"
   ]
  },
  {
   "cell_type": "markdown",
   "metadata": {
    "id": "e9akddZ3he8D"
   },
   "source": [
    "## Importar paquetes"
   ]
  },
  {
   "cell_type": "code",
   "execution_count": 1,
   "metadata": {
    "id": "m7F40kKThRw_"
   },
   "outputs": [],
   "source": [
    "# Importación de paquetes\n",
    "import numpy as np\n",
    "import pandas as pd\n",
    "import seaborn as sns\n",
    "\n",
    "import matplotlib.pyplot as plt\n",
    "import matplotlib.mlab as mlab\n",
    "import matplotlib\n",
    "from matplotlib.pyplot import figure\n",
    "\n",
    "from sklearn.preprocessing import OneHotEncoder\n",
    "from sklearn.ensemble import RandomForestRegressor\n",
    "from sklearn.datasets import make_regression\n",
    "from sklearn.model_selection import train_test_split\n",
    "from sklearn.preprocessing import RobustScaler\n",
    "\n",
    "sns.set(style=\"darkgrid\")"
   ]
  },
  {
   "cell_type": "code",
   "execution_count": 2,
   "metadata": {
    "colab": {
     "base_uri": "https://localhost:8080/",
     "height": 74
    },
    "id": "tnKu7oixhle9",
    "outputId": "e350974e-4580-46ef-b10d-db2384090a7d"
   },
   "outputs": [
    {
     "data": {
      "text/html": [
       "\n",
       "     <input type=\"file\" id=\"files-9dcd9386-a865-4cce-a2f0-ba79fc5f4a33\" name=\"files[]\" multiple disabled\n",
       "        style=\"border:none\" />\n",
       "     <output id=\"result-9dcd9386-a865-4cce-a2f0-ba79fc5f4a33\">\n",
       "      Upload widget is only available when the cell has been executed in the\n",
       "      current browser session. Please rerun this cell to enable.\n",
       "      </output>\n",
       "      <script>// Copyright 2017 Google LLC\n",
       "//\n",
       "// Licensed under the Apache License, Version 2.0 (the \"License\");\n",
       "// you may not use this file except in compliance with the License.\n",
       "// You may obtain a copy of the License at\n",
       "//\n",
       "//      http://www.apache.org/licenses/LICENSE-2.0\n",
       "//\n",
       "// Unless required by applicable law or agreed to in writing, software\n",
       "// distributed under the License is distributed on an \"AS IS\" BASIS,\n",
       "// WITHOUT WARRANTIES OR CONDITIONS OF ANY KIND, either express or implied.\n",
       "// See the License for the specific language governing permissions and\n",
       "// limitations under the License.\n",
       "\n",
       "/**\n",
       " * @fileoverview Helpers for google.colab Python module.\n",
       " */\n",
       "(function(scope) {\n",
       "function span(text, styleAttributes = {}) {\n",
       "  const element = document.createElement('span');\n",
       "  element.textContent = text;\n",
       "  for (const key of Object.keys(styleAttributes)) {\n",
       "    element.style[key] = styleAttributes[key];\n",
       "  }\n",
       "  return element;\n",
       "}\n",
       "\n",
       "// Max number of bytes which will be uploaded at a time.\n",
       "const MAX_PAYLOAD_SIZE = 100 * 1024;\n",
       "\n",
       "function _uploadFiles(inputId, outputId) {\n",
       "  const steps = uploadFilesStep(inputId, outputId);\n",
       "  const outputElement = document.getElementById(outputId);\n",
       "  // Cache steps on the outputElement to make it available for the next call\n",
       "  // to uploadFilesContinue from Python.\n",
       "  outputElement.steps = steps;\n",
       "\n",
       "  return _uploadFilesContinue(outputId);\n",
       "}\n",
       "\n",
       "// This is roughly an async generator (not supported in the browser yet),\n",
       "// where there are multiple asynchronous steps and the Python side is going\n",
       "// to poll for completion of each step.\n",
       "// This uses a Promise to block the python side on completion of each step,\n",
       "// then passes the result of the previous step as the input to the next step.\n",
       "function _uploadFilesContinue(outputId) {\n",
       "  const outputElement = document.getElementById(outputId);\n",
       "  const steps = outputElement.steps;\n",
       "\n",
       "  const next = steps.next(outputElement.lastPromiseValue);\n",
       "  return Promise.resolve(next.value.promise).then((value) => {\n",
       "    // Cache the last promise value to make it available to the next\n",
       "    // step of the generator.\n",
       "    outputElement.lastPromiseValue = value;\n",
       "    return next.value.response;\n",
       "  });\n",
       "}\n",
       "\n",
       "/**\n",
       " * Generator function which is called between each async step of the upload\n",
       " * process.\n",
       " * @param {string} inputId Element ID of the input file picker element.\n",
       " * @param {string} outputId Element ID of the output display.\n",
       " * @return {!Iterable<!Object>} Iterable of next steps.\n",
       " */\n",
       "function* uploadFilesStep(inputId, outputId) {\n",
       "  const inputElement = document.getElementById(inputId);\n",
       "  inputElement.disabled = false;\n",
       "\n",
       "  const outputElement = document.getElementById(outputId);\n",
       "  outputElement.innerHTML = '';\n",
       "\n",
       "  const pickedPromise = new Promise((resolve) => {\n",
       "    inputElement.addEventListener('change', (e) => {\n",
       "      resolve(e.target.files);\n",
       "    });\n",
       "  });\n",
       "\n",
       "  const cancel = document.createElement('button');\n",
       "  inputElement.parentElement.appendChild(cancel);\n",
       "  cancel.textContent = 'Cancel upload';\n",
       "  const cancelPromise = new Promise((resolve) => {\n",
       "    cancel.onclick = () => {\n",
       "      resolve(null);\n",
       "    };\n",
       "  });\n",
       "\n",
       "  // Wait for the user to pick the files.\n",
       "  const files = yield {\n",
       "    promise: Promise.race([pickedPromise, cancelPromise]),\n",
       "    response: {\n",
       "      action: 'starting',\n",
       "    }\n",
       "  };\n",
       "\n",
       "  cancel.remove();\n",
       "\n",
       "  // Disable the input element since further picks are not allowed.\n",
       "  inputElement.disabled = true;\n",
       "\n",
       "  if (!files) {\n",
       "    return {\n",
       "      response: {\n",
       "        action: 'complete',\n",
       "      }\n",
       "    };\n",
       "  }\n",
       "\n",
       "  for (const file of files) {\n",
       "    const li = document.createElement('li');\n",
       "    li.append(span(file.name, {fontWeight: 'bold'}));\n",
       "    li.append(span(\n",
       "        `(${file.type || 'n/a'}) - ${file.size} bytes, ` +\n",
       "        `last modified: ${\n",
       "            file.lastModifiedDate ? file.lastModifiedDate.toLocaleDateString() :\n",
       "                                    'n/a'} - `));\n",
       "    const percent = span('0% done');\n",
       "    li.appendChild(percent);\n",
       "\n",
       "    outputElement.appendChild(li);\n",
       "\n",
       "    const fileDataPromise = new Promise((resolve) => {\n",
       "      const reader = new FileReader();\n",
       "      reader.onload = (e) => {\n",
       "        resolve(e.target.result);\n",
       "      };\n",
       "      reader.readAsArrayBuffer(file);\n",
       "    });\n",
       "    // Wait for the data to be ready.\n",
       "    let fileData = yield {\n",
       "      promise: fileDataPromise,\n",
       "      response: {\n",
       "        action: 'continue',\n",
       "      }\n",
       "    };\n",
       "\n",
       "    // Use a chunked sending to avoid message size limits. See b/62115660.\n",
       "    let position = 0;\n",
       "    do {\n",
       "      const length = Math.min(fileData.byteLength - position, MAX_PAYLOAD_SIZE);\n",
       "      const chunk = new Uint8Array(fileData, position, length);\n",
       "      position += length;\n",
       "\n",
       "      const base64 = btoa(String.fromCharCode.apply(null, chunk));\n",
       "      yield {\n",
       "        response: {\n",
       "          action: 'append',\n",
       "          file: file.name,\n",
       "          data: base64,\n",
       "        },\n",
       "      };\n",
       "\n",
       "      let percentDone = fileData.byteLength === 0 ?\n",
       "          100 :\n",
       "          Math.round((position / fileData.byteLength) * 100);\n",
       "      percent.textContent = `${percentDone}% done`;\n",
       "\n",
       "    } while (position < fileData.byteLength);\n",
       "  }\n",
       "\n",
       "  // All done.\n",
       "  yield {\n",
       "    response: {\n",
       "      action: 'complete',\n",
       "    }\n",
       "  };\n",
       "}\n",
       "\n",
       "scope.google = scope.google || {};\n",
       "scope.google.colab = scope.google.colab || {};\n",
       "scope.google.colab._files = {\n",
       "  _uploadFiles,\n",
       "  _uploadFilesContinue,\n",
       "};\n",
       "})(self);\n",
       "</script> "
      ],
      "text/plain": [
       "<IPython.core.display.HTML object>"
      ]
     },
     "metadata": {},
     "output_type": "display_data"
    },
    {
     "name": "stdout",
     "output_type": "stream",
     "text": [
      "Saving gmd_02.csv to gmd_02.csv\n"
     ]
    }
   ],
   "source": [
    "from google.colab import files\n",
    "# Cargamos el fichero del dataset gmd_02.csv\n",
    "uploaded = files.upload()"
   ]
  },
  {
   "cell_type": "code",
   "execution_count": 3,
   "metadata": {
    "id": "BEeMMF10h5hT"
   },
   "outputs": [],
   "source": [
    "# Leemos el fichero csv con los datos\n",
    "df = pd.read_csv('gmd_02.csv', sep=';')"
   ]
  },
  {
   "cell_type": "markdown",
   "metadata": {
    "id": "flQEJs7DiR9T"
   },
   "source": [
    "## Agrupar razas similares, para reducir categorías"
   ]
  },
  {
   "cell_type": "code",
   "execution_count": 4,
   "metadata": {
    "id": "8oZ9QjhEiOEb"
   },
   "outputs": [],
   "source": [
    "# Revisar la raza si se agrupan las razas con menos ocurrencias\n",
    "agrupar_razas = {93 : 93, 85 : 93, 90 : 93, 95 : 93, 94 : 93, 82 : 93, 80 : 80, 96 : 80, 88 : 88, 0 : 0, 23 : 0, 84 : 0, 66 : 0, 18 : 0, 68 : 88, 7 : 7, 89 : 7, 65 : 7, 15 : 15, 97 : 7, 69 : 69, 81 : 81}\n",
    "df.replace({'ct_raza' : agrupar_razas}, inplace=True)"
   ]
  },
  {
   "cell_type": "markdown",
   "metadata": {
    "id": "pC7QRUUPC19F"
   },
   "source": [
    "## Convertir tipos de variables Categóricas y Fecha"
   ]
  },
  {
   "cell_type": "code",
   "execution_count": 5,
   "metadata": {
    "id": "j9JsRRq8C-bl"
   },
   "outputs": [],
   "source": [
    "# Convertimos los tipos\n",
    "df[\"ct_integra\"] = df[\"ct_integra\"].astype(\"category\")\n",
    "#df[\"ct_tipo\"] = df[\"ct_tipo\"].astype(\"category\")\n",
    "df[\"ct_raza\"] = df[\"ct_raza\"].astype(\"category\")\n",
    "df[\"ct_fase\"] = df[\"ct_fase\"].astype(\"category\")\n",
    "df['EntradaInicial']= pd.to_datetime(df['EntradaInicial'])\n",
    "df['EntradaFinal']= pd.to_datetime(df['EntradaFinal'])\n",
    "df[\"na_rega\"] = df[\"na_rega\"].astype(\"category\")\n",
    "df[\"NumBajas\"] = df[\"NumBajas\"].astype(\"int64\")\n",
    "df[\"gr_codpos\"] = df[\"gr_codpos\"].astype(\"category\")\n",
    "df[\"gr_poblacion\"] = df[\"gr_poblacion\"].astype(\"category\")\n",
    "df[\"na_nombre2\"] = df[\"na_nombre2\"].astype(\"category\")\n"
   ]
  },
  {
   "cell_type": "markdown",
   "metadata": {
    "id": "nC6k0U90DCoX"
   },
   "source": [
    "## Convertir variables categóricas a usar en OneHotEncoding"
   ]
  },
  {
   "cell_type": "code",
   "execution_count": 6,
   "metadata": {
    "id": "nbjWeDa2DAlS"
   },
   "outputs": [],
   "source": [
    "# Funcion para convertir en One Hot Encoding\n",
    "def encode_and_bind(original_dataframe, feature_to_encode):\n",
    "    dummies = pd.get_dummies(original_dataframe[[feature_to_encode]])\n",
    "    res = pd.concat([original_dataframe, dummies], axis=1)\n",
    "    res = res.drop([feature_to_encode], axis=1)\n",
    "    return(res)"
   ]
  },
  {
   "cell_type": "markdown",
   "metadata": {
    "id": "zgGncKCtDOVT"
   },
   "source": [
    "## Seleccionar Variables a Utilizar"
   ]
  },
  {
   "cell_type": "code",
   "execution_count": 7,
   "metadata": {
    "id": "kWdTFhVbDRzm"
   },
   "outputs": [],
   "source": [
    "# Cargamos las variables objetivo y las usadas\n",
    "y = df['GMD']\n",
    "x0 = df[['ct_integra','ct_tipo', 'ct_raza', 'IncPeso', 'DiasMedios', 'NumAnimales', \n",
    "         'na_rega', 'PesoEntMedio', 'PesoRecMedio', 'NumBajas', 'GPS_Longitud', 'GPS_Latitud', \n",
    "         'semanaEntrada', 'añoEntrada', 'PorcHembras', 'PiensoCerdaDia']]\n",
    "features_to_encode = ['ct_raza']   # , 'na_rega']\n",
    "x1 = x0.copy()\n",
    "x1.drop(['ct_integra','na_rega'], inplace=True, axis=1)\n",
    "for feature in features_to_encode:\n",
    "    x1 = encode_and_bind(x1, feature)\n"
   ]
  },
  {
   "cell_type": "markdown",
   "metadata": {
    "id": "OBqwRFjBDZVj"
   },
   "source": [
    "## Comprobar si hay variables dependientes"
   ]
  },
  {
   "cell_type": "code",
   "execution_count": 10,
   "metadata": {
    "colab": {
     "base_uri": "https://localhost:8080/",
     "height": 303
    },
    "id": "-AklJS0JDt1z",
    "outputId": "997a91cf-e802-4ed5-a354-97a789bbbb39"
   },
   "outputs": [
    {
     "data": {
      "image/png": "[encoded data removed]",
      "text/plain": [
       "<Figure size 432x288 with 121 Axes>"
      ]
     },
     "metadata": {},
     "output_type": "display_data"
    }
   ],
   "source": [
    "attributes = ['GMD', 'IncPeso', 'DiasMedios', 'NumAnimales', 'PesoEntMedio', 'PesoRecMedio', 'NumBajas', 'semanaEntrada', 'añoEntrada', 'PorcHembras', 'PiensoCerdaDia']\n",
    "pd.plotting.scatter_matrix(df[attributes])\n",
    "plt.show()\n"
   ]
  },
  {
   "cell_type": "markdown",
   "metadata": {
    "id": "3TM1c8hAER_a"
   },
   "source": [
    "## Dividir datos en entrenamiento y test"
   ]
  },
  {
   "cell_type": "code",
   "execution_count": 11,
   "metadata": {
    "id": "-t3_HrZPEX2b"
   },
   "outputs": [],
   "source": [
    "X_train, X_test, y_train, y_test = train_test_split(x1, y, test_size = 0.2, random_state = 123)"
   ]
  },
  {
   "cell_type": "markdown",
   "metadata": {
    "id": "5mWJT-zlEcqZ"
   },
   "source": [
    "## Escalar datos"
   ]
  },
  {
   "cell_type": "code",
   "execution_count": 12,
   "metadata": {
    "id": "pdtW_HciEiBK"
   },
   "outputs": [],
   "source": [
    "## Vemos de escalar las variables para que no se vean influenciadas por la escala.\n",
    "scaler = RobustScaler()\n",
    "scaler.fit(X_train)\n",
    "X_train_s = scaler.transform(X_train)\n",
    "X_test_s = scaler.transform(X_test)"
   ]
  },
  {
   "cell_type": "markdown",
   "metadata": {
    "id": "CE9v0DauEkty"
   },
   "source": [
    "# Modelo RandomForest"
   ]
  },
  {
   "cell_type": "markdown",
   "metadata": {
    "id": "2KhO8Us5ErrR"
   },
   "source": [
    "## Creación del modelo"
   ]
  },
  {
   "cell_type": "code",
   "execution_count": 13,
   "metadata": {
    "colab": {
     "base_uri": "https://localhost:8080/",
     "height": 74
    },
    "id": "SJHp5HsNEqHb",
    "outputId": "9816ad87-ec08-413c-8fdf-fa2e105af7b9"
   },
   "outputs": [
    {
     "data": {
      "text/html": [
       "<style>#sk-container-id-1 {color: black;background-color: white;}#sk-container-id-1 pre{padding: 0;}#sk-container-id-1 div.sk-toggleable {background-color: white;}#sk-container-id-1 label.sk-toggleable__label {cursor: pointer;display: block;width: 100%;margin-bottom: 0;padding: 0.3em;box-sizing: border-box;text-align: center;}#sk-container-id-1 label.sk-toggleable__label-arrow:before {content: \"▸\";float: left;margin-right: 0.25em;color: #696969;}#sk-container-id-1 label.sk-toggleable__label-arrow:hover:before {color: black;}#sk-container-id-1 div.sk-estimator:hover label.sk-toggleable__label-arrow:before {color: black;}#sk-container-id-1 div.sk-toggleable__content {max-height: 0;max-width: 0;overflow: hidden;text-align: left;background-color: #f0f8ff;}#sk-container-id-1 div.sk-toggleable__content pre {margin: 0.2em;color: black;border-radius: 0.25em;background-color: #f0f8ff;}#sk-container-id-1 input.sk-toggleable__control:checked~div.sk-toggleable__content {max-height: 200px;max-width: 100%;overflow: auto;}#sk-container-id-1 input.sk-toggleable__control:checked~label.sk-toggleable__label-arrow:before {content: \"▾\";}#sk-container-id-1 div.sk-estimator input.sk-toggleable__control:checked~label.sk-toggleable__label {background-color: #d4ebff;}#sk-container-id-1 div.sk-label input.sk-toggleable__control:checked~label.sk-toggleable__label {background-color: #d4ebff;}#sk-container-id-1 input.sk-hidden--visually {border: 0;clip: rect(1px 1px 1px 1px);clip: rect(1px, 1px, 1px, 1px);height: 1px;margin: -1px;overflow: hidden;padding: 0;position: absolute;width: 1px;}#sk-container-id-1 div.sk-estimator {font-family: monospace;background-color: #f0f8ff;border: 1px dotted black;border-radius: 0.25em;box-sizing: border-box;margin-bottom: 0.5em;}#sk-container-id-1 div.sk-estimator:hover {background-color: #d4ebff;}#sk-container-id-1 div.sk-parallel-item::after {content: \"\";width: 100%;border-bottom: 1px solid gray;flex-grow: 1;}#sk-container-id-1 div.sk-label:hover label.sk-toggleable__label {background-color: #d4ebff;}#sk-container-id-1 div.sk-serial::before {content: \"\";position: absolute;border-left: 1px solid gray;box-sizing: border-box;top: 0;bottom: 0;left: 50%;z-index: 0;}#sk-container-id-1 div.sk-serial {display: flex;flex-direction: column;align-items: center;background-color: white;padding-right: 0.2em;padding-left: 0.2em;position: relative;}#sk-container-id-1 div.sk-item {position: relative;z-index: 1;}#sk-container-id-1 div.sk-parallel {display: flex;align-items: stretch;justify-content: center;background-color: white;position: relative;}#sk-container-id-1 div.sk-item::before, #sk-container-id-1 div.sk-parallel-item::before {content: \"\";position: absolute;border-left: 1px solid gray;box-sizing: border-box;top: 0;bottom: 0;left: 50%;z-index: -1;}#sk-container-id-1 div.sk-parallel-item {display: flex;flex-direction: column;z-index: 1;position: relative;background-color: white;}#sk-container-id-1 div.sk-parallel-item:first-child::after {align-self: flex-end;width: 50%;}#sk-container-id-1 div.sk-parallel-item:last-child::after {align-self: flex-start;width: 50%;}#sk-container-id-1 div.sk-parallel-item:only-child::after {width: 0;}#sk-container-id-1 div.sk-dashed-wrapped {border: 1px dashed gray;margin: 0 0.4em 0.5em 0.4em;box-sizing: border-box;padding-bottom: 0.4em;background-color: white;}#sk-container-id-1 div.sk-label label {font-family: monospace;font-weight: bold;display: inline-block;line-height: 1.2em;}#sk-container-id-1 div.sk-label-container {text-align: center;}#sk-container-id-1 div.sk-container {/* jupyter's `normalize.less` sets `[hidden] { display: none; }` but bootstrap.min.css set `[hidden] { display: none !important; }` so we also need the `!important` here to be able to override the default hidden behavior on the sphinx rendered scikit-learn.org. See: https://github.com/scikit-learn/scikit-learn/issues/21755 */display: inline-block !important;position: relative;}#sk-container-id-1 div.sk-text-repr-fallback {display: none;}</style><div id=\"sk-container-id-1\" class=\"sk-top-container\"><div class=\"sk-text-repr-fallback\"><pre>RandomForestRegressor(max_features=&#x27;sqrt&#x27;, n_jobs=-1, random_state=123)</pre><b>In a Jupyter environment, please rerun this cell to show the HTML representation or trust the notebook. <br />On GitHub, the HTML representation is unable to render, please try loading this page with nbviewer.org.</b></div><div class=\"sk-container\" hidden><div class=\"sk-item\"><div class=\"sk-estimator sk-toggleable\"><input class=\"sk-toggleable__control sk-hidden--visually\" id=\"sk-estimator-id-1\" type=\"checkbox\" checked><label for=\"sk-estimator-id-1\" class=\"sk-toggleable__label sk-toggleable__label-arrow\">RandomForestRegressor</label><div class=\"sk-toggleable__content\"><pre>RandomForestRegressor(max_features=&#x27;sqrt&#x27;, n_jobs=-1, random_state=123)</pre></div></div></div></div></div>"
      ],
      "text/plain": [
       "RandomForestRegressor(max_features='sqrt', n_jobs=-1, random_state=123)"
      ]
     },
     "execution_count": 13,
     "metadata": {},
     "output_type": "execute_result"
    }
   ],
   "source": [
    "rf = RandomForestRegressor(\n",
    "            n_estimators = 100,\n",
    "            criterion    = 'squared_error',\n",
    "            max_depth    = None,\n",
    "            max_features = 'sqrt',\n",
    "            oob_score    = False,\n",
    "            n_jobs       = -1,\n",
    "            random_state = 123\n",
    "         )\n",
    "rf.fit(X_train_s, y_train)"
   ]
  },
  {
   "cell_type": "markdown",
   "metadata": {
    "id": "JL-SDRBVFG5S"
   },
   "source": [
    "## Ver diferencias entre valor real y predicho en Test"
   ]
  },
  {
   "cell_type": "code",
   "execution_count": 14,
   "metadata": {
    "id": "K2ePwsd_E9tD"
   },
   "outputs": [],
   "source": [
    "# Función para Graficar diferencias entre valor predicho y real en datos de test del modelo pasado\n",
    "def graficoDiferencias(modelo, X_test_s, y_test):\n",
    "    y_pred = modelo.predict(X_test_s)\n",
    "    diferencia = abs(y_pred - y_test)\n",
    "    g = sns.jointplot(x=y_test, y=y_pred)\n",
    "    # Draw a line of x=y\n",
    "    x0, x1 = g.ax_joint.get_xlim()\n",
    "    y0, y1 = g.ax_joint.get_ylim()\n",
    "    lims = [max(x0, y0), min(x1, y1)]\n",
    "    g.ax_joint.plot(lims, lims, '-r')\n",
    "    g.ax_joint.scatter(x=y_test, y=y_pred, c=diferencia.values, cmap=sns.dark_palette(\"#69d\", reverse=True, as_cmap=True))\n",
    "    plt.show()"
   ]
  },
  {
   "cell_type": "code",
   "execution_count": 15,
   "metadata": {
    "colab": {
     "base_uri": "https://localhost:8080/",
     "height": 455
    },
    "id": "LOxeg5rIFT5q",
    "outputId": "ff6f4f28-1b13-4b13-ec09-6ba5f98dd097"
   },
   "outputs": [
    {
     "name": "stdout",
     "output_type": "stream",
     "text": [
      "Score R2: 0.940290778143984\n"
     ]
    },
    {
     "data": {
      "image/png": "[encoded data removed]",
      "text/plain": [
       "<Figure size 432x432 with 3 Axes>"
      ]
     },
     "metadata": {},
     "output_type": "display_data"
    }
   ],
   "source": [
    "# Graficar las diferencias\n",
    "print('Score R2:',rf.score(X_test_s, y_test))\n",
    "graficoDiferencias(rf, X_test_s, y_test)"
   ]
  },
  {
   "cell_type": "markdown",
   "metadata": {
    "id": "n0pm17SrFNdR"
   },
   "source": [
    "## Variables más importantes según modelo"
   ]
  },
  {
   "cell_type": "code",
   "execution_count": 17,
   "metadata": {
    "colab": {
     "base_uri": "https://localhost:8080/"
    },
    "id": "bgABFxdkFe44",
    "outputId": "5dcd0254-3321-42bf-884f-e4eeb40f46b9"
   },
   "outputs": [
    {
     "name": "stdout",
     "output_type": "stream",
     "text": [
      "Las 10 características más relevantes pera la regresión son:\n",
      "\tOrden\tCaracterística\tImportancia\n",
      "\t 1 \t DiasMedios \t 0.22358858036505885\n",
      "\t 2 \t PesoRecMedio \t 0.19182689712015655\n",
      "\t 3 \t ct_tipo \t 0.10991871793945555\n",
      "\t 4 \t IncPeso \t 0.09861245219426418\n",
      "\t 5 \t ct_raza_69 \t 0.08238517408447579\n",
      "\t 6 \t PesoEntMedio \t 0.05983066533737301\n",
      "\t 7 \t PorcHembras \t 0.04372304675143815\n",
      "\t 8 \t semanaEntrada \t 0.03822699150339668\n",
      "\t 9 \t ct_raza_93 \t 0.032548017460435646\n",
      "\t 10 \t NumAnimales \t 0.023499950337882443\n"
     ]
    }
   ],
   "source": [
    "# Mostrar las variables más importantes\n",
    "important_features_dict = {}\n",
    "for idx, val in enumerate(rf.feature_importances_):\n",
    "    important_features_dict[idx] = val\n",
    "\n",
    "important_features_list = sorted(important_features_dict, key=important_features_dict.get, reverse=True)\n",
    "print(f'Las 10 características más relevantes pera la regresión son:')\n",
    "print('\\tOrden\\tCaracterística\\tImportancia')\n",
    "for i in range(10):\n",
    "    print('\\t', i+1, '\\t', x1.columns[important_features_list[i]], '\\t', important_features_dict.get(important_features_list[i]))"
   ]
  },
  {
   "cell_type": "markdown",
   "metadata": {
    "id": "EoUoyO42Ezuy"
   },
   "source": [
    "## Optimización de Hiperparámetros\n",
    "Intenteamos ver hasta dónde se pueden optimizar los hiperparámetros haciendo uso de una búsqueda aleatoria entre una gran variadead de valores de esos hiperparámetros."
   ]
  },
  {
   "cell_type": "markdown",
   "metadata": {
    "id": "V8cSHuLIGduq"
   },
   "source": [
    "### Definir hiperparámetros a optimizar y con qué posibles valores"
   ]
  },
  {
   "cell_type": "code",
   "execution_count": 18,
   "metadata": {
    "id": "6Vm_-cMuGYqB"
   },
   "outputs": [],
   "source": [
    "# Hago una optimización de los hiperparámetros para RandomForest\n",
    "from sklearn.model_selection import RandomizedSearchCV\n",
    "random_grid = {'bootstrap': [True, False],\n",
    "               'max_depth': [10, 20, 30, 40, 50, 60, 70, 80, 90, 100, 110, None],\n",
    "               'max_features': [1.0, 'sqrt', 2, 5, 10, 20],\n",
    "               'min_samples_leaf': [1, 2, 4, 10],\n",
    "               'min_samples_split': [2, 5, 10, 20],\n",
    "               'n_estimators': [20, 50, 75, 100, 150, 250, 500]}\n"
   ]
  },
  {
   "cell_type": "markdown",
   "metadata": {
    "id": "vOeAnZk8Gnqn"
   },
   "source": [
    "### Lanzar búsqueda de mejores parámetros"
   ]
  },
  {
   "cell_type": "code",
   "execution_count": 19,
   "metadata": {
    "colab": {
     "base_uri": "https://localhost:8080/",
     "height": 134
    },
    "id": "AqTDVn9cGtiy",
    "outputId": "b889d976-848a-46ac-e69f-295ef15b18ba"
   },
   "outputs": [
    {
     "name": "stdout",
     "output_type": "stream",
     "text": [
      "Fitting 3 folds for each of 300 candidates, totalling 900 fits\n"
     ]
    },
    {
     "data": {
      "text/html": [
       "<style>#sk-container-id-2 {color: black;background-color: white;}#sk-container-id-2 pre{padding: 0;}#sk-container-id-2 div.sk-toggleable {background-color: white;}#sk-container-id-2 label.sk-toggleable__label {cursor: pointer;display: block;width: 100%;margin-bottom: 0;padding: 0.3em;box-sizing: border-box;text-align: center;}#sk-container-id-2 label.sk-toggleable__label-arrow:before {content: \"▸\";float: left;margin-right: 0.25em;color: #696969;}#sk-container-id-2 label.sk-toggleable__label-arrow:hover:before {color: black;}#sk-container-id-2 div.sk-estimator:hover label.sk-toggleable__label-arrow:before {color: black;}#sk-container-id-2 div.sk-toggleable__content {max-height: 0;max-width: 0;overflow: hidden;text-align: left;background-color: #f0f8ff;}#sk-container-id-2 div.sk-toggleable__content pre {margin: 0.2em;color: black;border-radius: 0.25em;background-color: #f0f8ff;}#sk-container-id-2 input.sk-toggleable__control:checked~div.sk-toggleable__content {max-height: 200px;max-width: 100%;overflow: auto;}#sk-container-id-2 input.sk-toggleable__control:checked~label.sk-toggleable__label-arrow:before {content: \"▾\";}#sk-container-id-2 div.sk-estimator input.sk-toggleable__control:checked~label.sk-toggleable__label {background-color: #d4ebff;}#sk-container-id-2 div.sk-label input.sk-toggleable__control:checked~label.sk-toggleable__label {background-color: #d4ebff;}#sk-container-id-2 input.sk-hidden--visually {border: 0;clip: rect(1px 1px 1px 1px);clip: rect(1px, 1px, 1px, 1px);height: 1px;margin: -1px;overflow: hidden;padding: 0;position: absolute;width: 1px;}#sk-container-id-2 div.sk-estimator {font-family: monospace;background-color: #f0f8ff;border: 1px dotted black;border-radius: 0.25em;box-sizing: border-box;margin-bottom: 0.5em;}#sk-container-id-2 div.sk-estimator:hover {background-color: #d4ebff;}#sk-container-id-2 div.sk-parallel-item::after {content: \"\";width: 100%;border-bottom: 1px solid gray;flex-grow: 1;}#sk-container-id-2 div.sk-label:hover label.sk-toggleable__label {background-color: #d4ebff;}#sk-container-id-2 div.sk-serial::before {content: \"\";position: absolute;border-left: 1px solid gray;box-sizing: border-box;top: 0;bottom: 0;left: 50%;z-index: 0;}#sk-container-id-2 div.sk-serial {display: flex;flex-direction: column;align-items: center;background-color: white;padding-right: 0.2em;padding-left: 0.2em;position: relative;}#sk-container-id-2 div.sk-item {position: relative;z-index: 1;}#sk-container-id-2 div.sk-parallel {display: flex;align-items: stretch;justify-content: center;background-color: white;position: relative;}#sk-container-id-2 div.sk-item::before, #sk-container-id-2 div.sk-parallel-item::before {content: \"\";position: absolute;border-left: 1px solid gray;box-sizing: border-box;top: 0;bottom: 0;left: 50%;z-index: -1;}#sk-container-id-2 div.sk-parallel-item {display: flex;flex-direction: column;z-index: 1;position: relative;background-color: white;}#sk-container-id-2 div.sk-parallel-item:first-child::after {align-self: flex-end;width: 50%;}#sk-container-id-2 div.sk-parallel-item:last-child::after {align-self: flex-start;width: 50%;}#sk-container-id-2 div.sk-parallel-item:only-child::after {width: 0;}#sk-container-id-2 div.sk-dashed-wrapped {border: 1px dashed gray;margin: 0 0.4em 0.5em 0.4em;box-sizing: border-box;padding-bottom: 0.4em;background-color: white;}#sk-container-id-2 div.sk-label label {font-family: monospace;font-weight: bold;display: inline-block;line-height: 1.2em;}#sk-container-id-2 div.sk-label-container {text-align: center;}#sk-container-id-2 div.sk-container {/* jupyter's `normalize.less` sets `[hidden] { display: none; }` but bootstrap.min.css set `[hidden] { display: none !important; }` so we also need the `!important` here to be able to override the default hidden behavior on the sphinx rendered scikit-learn.org. See: https://github.com/scikit-learn/scikit-learn/issues/21755 */display: inline-block !important;position: relative;}#sk-container-id-2 div.sk-text-repr-fallback {display: none;}</style><div id=\"sk-container-id-2\" class=\"sk-top-container\"><div class=\"sk-text-repr-fallback\"><pre>RandomizedSearchCV(cv=3,\n",
       "                   estimator=RandomForestRegressor(max_features=&#x27;sqrt&#x27;,\n",
       "                                                   n_jobs=-1,\n",
       "                                                   random_state=123),\n",
       "                   n_iter=300, n_jobs=-1,\n",
       "                   param_distributions={&#x27;bootstrap&#x27;: [True, False],\n",
       "                                        &#x27;max_depth&#x27;: [10, 20, 30, 40, 50, 60,\n",
       "                                                      70, 80, 90, 100, 110,\n",
       "                                                      None],\n",
       "                                        &#x27;max_features&#x27;: [1.0, &#x27;sqrt&#x27;, 2, 5, 10,\n",
       "                                                         20],\n",
       "                                        &#x27;min_samples_leaf&#x27;: [1, 2, 4, 10],\n",
       "                                        &#x27;min_samples_split&#x27;: [2, 5, 10, 20],\n",
       "                                        &#x27;n_estimators&#x27;: [20, 50, 75, 100, 150,\n",
       "                                                         250, 500]},\n",
       "                   random_state=123, scoring=&#x27;neg_mean_squared_error&#x27;,\n",
       "                   verbose=1)</pre><b>In a Jupyter environment, please rerun this cell to show the HTML representation or trust the notebook. <br />On GitHub, the HTML representation is unable to render, please try loading this page with nbviewer.org.</b></div><div class=\"sk-container\" hidden><div class=\"sk-item sk-dashed-wrapped\"><div class=\"sk-label-container\"><div class=\"sk-label sk-toggleable\"><input class=\"sk-toggleable__control sk-hidden--visually\" id=\"sk-estimator-id-2\" type=\"checkbox\" ><label for=\"sk-estimator-id-2\" class=\"sk-toggleable__label sk-toggleable__label-arrow\">RandomizedSearchCV</label><div class=\"sk-toggleable__content\"><pre>RandomizedSearchCV(cv=3,\n",
       "                   estimator=RandomForestRegressor(max_features=&#x27;sqrt&#x27;,\n",
       "                                                   n_jobs=-1,\n",
       "                                                   random_state=123),\n",
       "                   n_iter=300, n_jobs=-1,\n",
       "                   param_distributions={&#x27;bootstrap&#x27;: [True, False],\n",
       "                                        &#x27;max_depth&#x27;: [10, 20, 30, 40, 50, 60,\n",
       "                                                      70, 80, 90, 100, 110,\n",
       "                                                      None],\n",
       "                                        &#x27;max_features&#x27;: [1.0, &#x27;sqrt&#x27;, 2, 5, 10,\n",
       "                                                         20],\n",
       "                                        &#x27;min_samples_leaf&#x27;: [1, 2, 4, 10],\n",
       "                                        &#x27;min_samples_split&#x27;: [2, 5, 10, 20],\n",
       "                                        &#x27;n_estimators&#x27;: [20, 50, 75, 100, 150,\n",
       "                                                         250, 500]},\n",
       "                   random_state=123, scoring=&#x27;neg_mean_squared_error&#x27;,\n",
       "                   verbose=1)</pre></div></div></div><div class=\"sk-parallel\"><div class=\"sk-parallel-item\"><div class=\"sk-item\"><div class=\"sk-label-container\"><div class=\"sk-label sk-toggleable\"><input class=\"sk-toggleable__control sk-hidden--visually\" id=\"sk-estimator-id-3\" type=\"checkbox\" ><label for=\"sk-estimator-id-3\" class=\"sk-toggleable__label sk-toggleable__label-arrow\">estimator: RandomForestRegressor</label><div class=\"sk-toggleable__content\"><pre>RandomForestRegressor(max_features=&#x27;sqrt&#x27;, n_jobs=-1, random_state=123)</pre></div></div></div><div class=\"sk-serial\"><div class=\"sk-item\"><div class=\"sk-estimator sk-toggleable\"><input class=\"sk-toggleable__control sk-hidden--visually\" id=\"sk-estimator-id-4\" type=\"checkbox\" ><label for=\"sk-estimator-id-4\" class=\"sk-toggleable__label sk-toggleable__label-arrow\">RandomForestRegressor</label><div class=\"sk-toggleable__content\"><pre>RandomForestRegressor(max_features=&#x27;sqrt&#x27;, n_jobs=-1, random_state=123)</pre></div></div></div></div></div></div></div></div></div></div>"
      ],
      "text/plain": [
       "RandomizedSearchCV(cv=3,\n",
       "                   estimator=RandomForestRegressor(max_features='sqrt',\n",
       "                                                   n_jobs=-1,\n",
       "                                                   random_state=123),\n",
       "                   n_iter=300, n_jobs=-1,\n",
       "                   param_distributions={'bootstrap': [True, False],\n",
       "                                        'max_depth': [10, 20, 30, 40, 50, 60,\n",
       "                                                      70, 80, 90, 100, 110,\n",
       "                                                      None],\n",
       "                                        'max_features': [1.0, 'sqrt', 2, 5, 10,\n",
       "                                                         20],\n",
       "                                        'min_samples_leaf': [1, 2, 4, 10],\n",
       "                                        'min_samples_split': [2, 5, 10, 20],\n",
       "                                        'n_estimators': [20, 50, 75, 100, 150,\n",
       "                                                         250, 500]},\n",
       "                   random_state=123, scoring='neg_mean_squared_error',\n",
       "                   verbose=1)"
      ]
     },
     "execution_count": 19,
     "metadata": {},
     "output_type": "execute_result"
    }
   ],
   "source": [
    "rf_random = RandomizedSearchCV(scoring=\"neg_mean_squared_error\", estimator = rf, param_distributions = random_grid, n_iter = 300, cv = 3, verbose=1, random_state=123, n_jobs = -1)\n",
    "rf_random.fit(X_train_s, y_train)"
   ]
  },
  {
   "cell_type": "markdown",
   "metadata": {
    "id": "awbXRyvqGwoY"
   },
   "source": [
    "### Analizar mejor modelo y su error"
   ]
  },
  {
   "cell_type": "code",
   "execution_count": 20,
   "metadata": {
    "colab": {
     "base_uri": "https://localhost:8080/"
    },
    "id": "6CiaDgQIG3ui",
    "outputId": "42e064f2-30a0-461a-91a4-dce460d47ff1"
   },
   "outputs": [
    {
     "data": {
      "text/plain": [
       "{'n_estimators': 150,\n",
       " 'min_samples_split': 5,\n",
       " 'min_samples_leaf': 2,\n",
       " 'max_features': 1.0,\n",
       " 'max_depth': None,\n",
       " 'bootstrap': True}"
      ]
     },
     "execution_count": 20,
     "metadata": {},
     "output_type": "execute_result"
    }
   ],
   "source": [
    "rf_random.best_params_"
   ]
  },
  {
   "cell_type": "markdown",
   "metadata": {
    "id": "BuChK6mZG65J"
   },
   "source": [
    "Tras probar aleatoreamente entre 300 combinaciones del rango de hiperparámetros propuesto la mejor solución para optimizar el error cuadrático medio ha sido la que se muestra. La búsqueda de los mejores hiperparámetros tardó en Google Colab 26 minutos, probando las 300 combinaciones para 3 particiones de los datos cada una."
   ]
  },
  {
   "cell_type": "code",
   "execution_count": 21,
   "metadata": {
    "colab": {
     "base_uri": "https://localhost:8080/"
    },
    "id": "auNF7FZEG7VI",
    "outputId": "ef5155ce-ea98-4137-aab2-df4a01cd2736"
   },
   "outputs": [
    {
     "name": "stdout",
     "output_type": "stream",
     "text": [
      "Score R2: -0.00021213044110303427\n"
     ]
    }
   ],
   "source": [
    "print('Score R2:',rf_random.best_score_)"
   ]
  },
  {
   "cell_type": "markdown",
   "metadata": {
    "id": "q8MnTwwYHNn4"
   },
   "source": [
    "El error obtenido es de tan sólo -0.00021213..."
   ]
  },
  {
   "cell_type": "code",
   "execution_count": 22,
   "metadata": {
    "colab": {
     "base_uri": "https://localhost:8080/",
     "height": 455
    },
    "id": "smuS3vH_HNKH",
    "outputId": "cc1fe55c-f5e9-4dea-ee0f-6b3af818cb7a"
   },
   "outputs": [
    {
     "name": "stdout",
     "output_type": "stream",
     "text": [
      "Score R2: 0.9713325517392077\n"
     ]
    },
    {
     "data": {
      "image/png": "[encoded data removed]",
      "text/plain": [
       "<Figure size 432x432 with 3 Axes>"
      ]
     },
     "metadata": {},
     "output_type": "display_data"
    }
   ],
   "source": [
    "print('Score R2:',rf_random.best_estimator_.score(X_test_s, y_test))\n",
    "graficoDiferencias(rf_random.best_estimator_, X_test_s, y_test)"
   ]
  },
  {
   "cell_type": "markdown",
   "metadata": {
    "id": "9AToVuPZHXTP"
   },
   "source": [
    "Hemos obtenido un coeficiente de determinación de 97,13%, mejorando el de los parámetros iniciales en un 3%."
   ]
  },
  {
   "cell_type": "code",
   "execution_count": 23,
   "metadata": {
    "colab": {
     "base_uri": "https://localhost:8080/"
    },
    "id": "WbuzFm82I4s_",
    "outputId": "227c0de8-4cdf-4719-a39b-06a38fa603db"
   },
   "outputs": [
    {
     "name": "stdout",
     "output_type": "stream",
     "text": [
      "Error cuadrático medio: 0.000205420873220814\n"
     ]
    }
   ],
   "source": [
    "# Medimos las diferencias de la predicción según RMSE\n",
    "from sklearn.metrics import mean_squared_error\n",
    "y_pred_rf_01 = rf_random.best_estimator_.predict(X_test_s)\n",
    "print('Error cuadrático medio:',mean_squared_error(y_test, y_pred_rf_01))"
   ]
  },
  {
   "cell_type": "markdown",
   "metadata": {
    "id": "_4Q2ozoNOGxP"
   },
   "source": [
    "Si medimos las diferencias sobre el conjunto de datos de test (no usado en el entrenamiento), el error se mantiene similar al obtenido en la validación cruzada del modelo, por lo que parece que no está sobreajustado y generaliza correctamente."
   ]
  },
  {
   "cell_type": "markdown",
   "metadata": {
    "id": "c5cgc9CAJMKs"
   },
   "source": [
    "# Estimar mejores modelos con LazzyPredict\n",
    "La librería lazzypredict permite estimar los modelos que mejor representan nuestro modelo según una métrica dada, probando en más de 40 modelos y ofreciendo un ranking de los resultados. No ofrecen los mejores hiperparámetros para cada uno de esos modelos, pero es un buen punto de partida, para seleccionar los modelos más prometedores y realizar sobre ellos la optimización de hiperparámetros, con la que encontrar más rápidamente un buen modelo que se aproxime a la mejor solución disponible con los métodos y variables actuales."
   ]
  },
  {
   "cell_type": "code",
   "execution_count": 24,
   "metadata": {
    "colab": {
     "base_uri": "https://localhost:8080/"
    },
    "id": "fUMgUFQZKKW8",
    "outputId": "be5a9518-6065-40df-9f09-85cd100dde1b"
   },
   "outputs": [
    {
     "name": "stdout",
     "output_type": "stream",
     "text": [
      "Looking in indexes: https://pypi.org/simple, https://us-python.pkg.dev/colab-wheels/public/simple/\n",
      "Collecting lazypredict\n",
      "  Downloading lazypredict-0.2.12-py2.py3-none-any.whl (12 kB)\n",
      "Requirement already satisfied: xgboost in /usr/local/lib/python3.9/dist-packages (from lazypredict) (1.7.4)\n",
      "Requirement already satisfied: pandas in /usr/local/lib/python3.9/dist-packages (from lazypredict) (1.4.4)\n",
      "Requirement already satisfied: lightgbm in /usr/local/lib/python3.9/dist-packages (from lazypredict) (3.3.5)\n",
      "Requirement already satisfied: tqdm in /usr/local/lib/python3.9/dist-packages (from lazypredict) (4.65.0)\n",
      "Requirement already satisfied: joblib in /usr/local/lib/python3.9/dist-packages (from lazypredict) (1.1.1)\n",
      "Requirement already satisfied: click in /usr/local/lib/python3.9/dist-packages (from lazypredict) (8.1.3)\n",
      "Requirement already satisfied: scikit-learn in /usr/local/lib/python3.9/dist-packages (from lazypredict) (1.2.2)\n",
      "Requirement already satisfied: scipy in /usr/local/lib/python3.9/dist-packages (from lightgbm->lazypredict) (1.10.1)\n",
      "Requirement already satisfied: wheel in /usr/local/lib/python3.9/dist-packages (from lightgbm->lazypredict) (0.40.0)\n",
      "Requirement already satisfied: numpy in /usr/local/lib/python3.9/dist-packages (from lightgbm->lazypredict) (1.22.4)\n",
      "Requirement already satisfied: threadpoolctl>=2.0.0 in /usr/local/lib/python3.9/dist-packages (from scikit-learn->lazypredict) (3.1.0)\n",
      "Requirement already satisfied: pytz>=2020.1 in /usr/local/lib/python3.9/dist-packages (from pandas->lazypredict) (2022.7.1)\n",
      "Requirement already satisfied: python-dateutil>=2.8.1 in /usr/local/lib/python3.9/dist-packages (from pandas->lazypredict) (2.8.2)\n",
      "Requirement already satisfied: six>=1.5 in /usr/local/lib/python3.9/dist-packages (from python-dateutil>=2.8.1->pandas->lazypredict) (1.16.0)\n",
      "Installing collected packages: lazypredict\n",
      "Successfully installed lazypredict-0.2.12\n"
     ]
    }
   ],
   "source": [
    "!pip install lazypredict"
   ]
  },
  {
   "cell_type": "code",
   "execution_count": 25,
   "metadata": {
    "colab": {
     "base_uri": "https://localhost:8080/"
    },
    "id": "DR_CZv5vJMjG",
    "outputId": "116ba66c-10c0-49af-a5a9-937525311ade"
   },
   "outputs": [
    {
     "name": "stderr",
     "output_type": "stream",
     "text": [
      "  3%|▎         | 1/39 [00:01<00:41,  1.10s/it]"
     ]
    },
    {
     "name": "stdout",
     "output_type": "stream",
     "text": [
      "{'Model': 'AdaBoostRegressor', 'R-Squared': 0.8458836069304074, 'Adjusted R-Squared': 0.8427535834734815, 'RMSE': 0.03323167140917606, 'Time taken': 1.101137399673462}\n"
     ]
    },
    {
     "name": "stderr",
     "output_type": "stream",
     "text": [
      "\r",
      "  5%|▌         | 2/39 [00:01<00:30,  1.20it/s]"
     ]
    },
    {
     "name": "stdout",
     "output_type": "stream",
     "text": [
      "{'Model': 'BaggingRegressor', 'R-Squared': 0.9688202021636585, 'Adjusted R-Squared': 0.9681869567530558, 'RMSE': 0.014947357243164252, 'Time taken': 0.6370360851287842}\n",
      "{'Model': 'BayesianRidge', 'R-Squared': 0.9742048575206925, 'Adjusted R-Squared': 0.9736809716482888, 'RMSE': 0.013595548464256514, 'Time taken': 0.09035086631774902}\n"
     ]
    },
    {
     "name": "stderr",
     "output_type": "stream",
     "text": [
      " 15%|█▌        | 6/39 [00:02<00:07,  4.14it/s]"
     ]
    },
    {
     "name": "stdout",
     "output_type": "stream",
     "text": [
      "{'Model': 'DecisionTreeRegressor', 'R-Squared': 0.9273593104184895, 'Adjusted R-Squared': 0.9258840159492325, 'RMSE': 0.022814856735196013, 'Time taken': 0.20186495780944824}\n",
      "{'Model': 'DummyRegressor', 'R-Squared': -0.00023142543513321456, 'Adjusted R-Squared': -0.02054560332114641, 'RMSE': 0.08465995131903602, 'Time taken': 0.05101585388183594}\n",
      "{'Model': 'ElasticNet', 'R-Squared': -0.00023142543513321456, 'Adjusted R-Squared': -0.02054560332114641, 'RMSE': 0.08465995131903602, 'Time taken': 0.06140899658203125}\n"
     ]
    },
    {
     "name": "stderr",
     "output_type": "stream",
     "text": [
      " 21%|██        | 8/39 [00:02<00:08,  3.82it/s]"
     ]
    },
    {
     "name": "stdout",
     "output_type": "stream",
     "text": [
      "{'Model': 'ElasticNetCV', 'R-Squared': 0.9740553524906352, 'Adjusted R-Squared': 0.9735284302491491, 'RMSE': 0.013634890487995665, 'Time taken': 0.5051455497741699}\n",
      "{'Model': 'ExtraTreeRegressor', 'R-Squared': 0.8746187716296872, 'Adjusted R-Squared': 0.8720723443610444, 'RMSE': 0.02997395334609587, 'Time taken': 0.1257338523864746}\n"
     ]
    },
    {
     "name": "stderr",
     "output_type": "stream",
     "text": [
      "\r",
      " 23%|██▎       | 9/39 [00:07<00:47,  1.60s/it]"
     ]
    },
    {
     "name": "stdout",
     "output_type": "stream",
     "text": [
      "{'Model': 'ExtraTreesRegressor', 'R-Squared': 0.9719630985396149, 'Adjusted R-Squared': 0.97139368371305, 'RMSE': 0.01417401129332647, 'Time taken': 5.118066787719727}\n"
     ]
    },
    {
     "name": "stderr",
     "output_type": "stream",
     "text": [
      "\r",
      " 26%|██▌       | 10/39 [00:08<00:35,  1.21s/it]"
     ]
    },
    {
     "name": "stdout",
     "output_type": "stream",
     "text": [
      "{'Model': 'GammaRegressor', 'R-Squared': 0.6734150642236648, 'Adjusted R-Squared': 0.6667822947349772, 'RMSE': 0.048375541679610515, 'Time taken': 0.23118114471435547}\n"
     ]
    },
    {
     "name": "stderr",
     "output_type": "stream",
     "text": [
      "\r",
      " 28%|██▊       | 11/39 [00:16<01:31,  3.28s/it]"
     ]
    },
    {
     "name": "stdout",
     "output_type": "stream",
     "text": [
      "{'Model': 'GaussianProcessRegressor', 'R-Squared': -5.57309765495273, 'Adjusted R-Squared': -5.706593835565889, 'RMSE': 0.2170265212517378, 'Time taken': 8.424036741256714}\n"
     ]
    },
    {
     "name": "stderr",
     "output_type": "stream",
     "text": [
      "\r",
      " 31%|███       | 12/39 [00:20<01:32,  3.42s/it]"
     ]
    },
    {
     "name": "stdout",
     "output_type": "stream",
     "text": [
      "{'Model': 'GradientBoostingRegressor', 'R-Squared': 0.972036976722979, 'Adjusted R-Squared': 0.9714690623237358, 'RMSE': 0.014155324475594309, 'Time taken': 3.743919849395752}\n"
     ]
    },
    {
     "name": "stderr",
     "output_type": "stream",
     "text": [
      "\r",
      " 33%|███▎      | 13/39 [00:28<02:02,  4.70s/it]"
     ]
    },
    {
     "name": "stdout",
     "output_type": "stream",
     "text": [
      "{'Model': 'HistGradientBoostingRegressor', 'R-Squared': 0.981825078527157, 'Adjusted R-Squared': 0.9814559553637819, 'RMSE': 0.011412059791059555, 'Time taken': 7.777765989303589}\n"
     ]
    },
    {
     "name": "stderr",
     "output_type": "stream",
     "text": [
      " 38%|███▊      | 15/39 [00:28<00:58,  2.44s/it]"
     ]
    },
    {
     "name": "stdout",
     "output_type": "stream",
     "text": [
      "{'Model': 'HuberRegressor', 'R-Squared': 0.9636794677360618, 'Adjusted R-Squared': 0.962941816693951, 'RMSE': 0.01613258154452639, 'Time taken': 0.3591623306274414}\n",
      "{'Model': 'KNeighborsRegressor', 'R-Squared': 0.8344913942791174, 'Adjusted R-Squared': 0.8311300009327552, 'RMSE': 0.034438010719842656, 'Time taken': 0.12135577201843262}\n"
     ]
    },
    {
     "name": "stderr",
     "output_type": "stream",
     "text": [
      " 49%|████▊     | 19/39 [00:30<00:20,  1.01s/it]"
     ]
    },
    {
     "name": "stdout",
     "output_type": "stream",
     "text": [
      "{'Model': 'KernelRidge', 'R-Squared': -91.11648214077539, 'Adjusted R-Squared': -92.9873197858008, 'RMSE': 0.8124496182403466, 'Time taken': 1.7480552196502686}\n",
      "{'Model': 'Lars', 'R-Squared': -2.0330061718880246, 'Adjusted R-Squared': -2.0946049432706633, 'RMSE': 0.14742271797695453, 'Time taken': 0.02900218963623047}\n",
      "{'Model': 'LarsCV', 'R-Squared': 0.9076660601509716, 'Adjusted R-Squared': 0.9057908060534575, 'RMSE': 0.025722220117985833, 'Time taken': 0.0649571418762207}\n",
      "{'Model': 'Lasso', 'R-Squared': -0.00023142543513321456, 'Adjusted R-Squared': -0.02054560332114641, 'RMSE': 0.08465995131903602, 'Time taken': 0.02730250358581543}\n"
     ]
    },
    {
     "name": "stderr",
     "output_type": "stream",
     "text": [
      "\r",
      " 51%|█████▏    | 20/39 [00:30<00:16,  1.16it/s]"
     ]
    },
    {
     "name": "stdout",
     "output_type": "stream",
     "text": [
      "{'Model': 'LassoCV', 'R-Squared': 0.9740587629894424, 'Adjusted R-Squared': 0.9735319100134059, 'RMSE': 0.013633994285686, 'Time taken': 0.32060670852661133}\n",
      "{'Model': 'LassoLars', 'R-Squared': -0.00023142543513321456, 'Adjusted R-Squared': -0.02054560332114641, 'RMSE': 0.08465995131903602, 'Time taken': 0.062177181243896484}\n"
     ]
    },
    {
     "name": "stderr",
     "output_type": "stream",
     "text": [
      " 59%|█████▉    | 23/39 [00:31<00:07,  2.08it/s]"
     ]
    },
    {
     "name": "stdout",
     "output_type": "stream",
     "text": [
      "{'Model': 'LassoLarsCV', 'R-Squared': 0.9740112137605343, 'Adjusted R-Squared': 0.973483395084491, 'RMSE': 0.013646483842689348, 'Time taken': 0.14906907081604004}\n",
      "{'Model': 'LassoLarsIC', 'R-Squared': 0.9742017897797559, 'Adjusted R-Squared': 0.9736778416031359, 'RMSE': 0.013596356879651881, 'Time taken': 0.09488821029663086}\n",
      "{'Model': 'LinearRegression', 'R-Squared': 0.9742411130044903, 'Adjusted R-Squared': 0.9737179634620283, 'RMSE': 0.013585990724681639, 'Time taken': 0.07036733627319336}\n"
     ]
    },
    {
     "name": "stderr",
     "output_type": "stream",
     "text": [
      "\r",
      " 64%|██████▍   | 25/39 [00:31<00:06,  2.21it/s]"
     ]
    },
    {
     "name": "stdout",
     "output_type": "stream",
     "text": [
      "{'Model': 'LinearSVR', 'R-Squared': 0.9578444971278379, 'Adjusted R-Squared': 0.9569883408799507, 'RMSE': 0.01738020537423998, 'Time taken': 0.734478235244751}\n"
     ]
    },
    {
     "name": "stderr",
     "output_type": "stream",
     "text": [
      "\r",
      " 67%|██████▋   | 26/39 [00:34<00:10,  1.26it/s]"
     ]
    },
    {
     "name": "stdout",
     "output_type": "stream",
     "text": [
      "{'Model': 'MLPRegressor', 'R-Squared': 0.6681183563598421, 'Adjusted R-Squared': 0.6613780135006126, 'RMSE': 0.048766252495305806, 'Time taken': 2.040773630142212}\n"
     ]
    },
    {
     "name": "stderr",
     "output_type": "stream",
     "text": [
      " 77%|███████▋  | 30/39 [00:54<00:24,  2.68s/it]"
     ]
    },
    {
     "name": "stdout",
     "output_type": "stream",
     "text": [
      "{'Model': 'NuSVR', 'R-Squared': 0.992111762521968, 'Adjusted R-Squared': 0.9919515565383716, 'RMSE': 0.007518267176847674, 'Time taken': 20.1945161819458}\n",
      "{'Model': 'OrthogonalMatchingPursuit', 'R-Squared': 0.5294344783992626, 'Adjusted R-Squared': 0.5198775384054373, 'RMSE': 0.05806812705734184, 'Time taken': 0.021038055419921875}\n",
      "{'Model': 'OrthogonalMatchingPursuitCV', 'R-Squared': 0.9725173824111705, 'Adjusted R-Squared': 0.9719592248005656, 'RMSE': 0.01403320321413072, 'Time taken': 0.03635835647583008}\n",
      "{'Model': 'RANSACRegressor', 'R-Squared': -9.594686330328755e+23, 'Adjusted R-Squared': -9.789549398933111e+23, 'RMSE': 82916919220.0113, 'Time taken': 0.0745241641998291}\n"
     ]
    },
    {
     "name": "stderr",
     "output_type": "stream",
     "text": [
      " 85%|████████▍ | 33/39 [00:58<00:11,  1.94s/it]"
     ]
    },
    {
     "name": "stdout",
     "output_type": "stream",
     "text": [
      "{'Model': 'RandomForestRegressor', 'R-Squared': 0.9712938339505025, 'Adjusted R-Squared': 0.970710826709652, 'RMSE': 0.014342186420013902, 'Time taken': 4.23161768913269}\n",
      "{'Model': 'Ridge', 'R-Squared': 0.9742177023214985, 'Adjusted R-Squared': 0.973694077320291, 'RMSE': 0.013592163062196278, 'Time taken': 0.034204721450805664}\n",
      "{'Model': 'RidgeCV', 'R-Squared': 0.9742177023214325, 'Adjusted R-Squared': 0.9736940773202236, 'RMSE': 0.013592163062213697, 'Time taken': 0.07680463790893555}\n"
     ]
    },
    {
     "name": "stderr",
     "output_type": "stream",
     "text": [
      " 90%|████████▉ | 35/39 [00:59<00:05,  1.26s/it]"
     ]
    },
    {
     "name": "stdout",
     "output_type": "stream",
     "text": [
      "{'Model': 'SGDRegressor', 'R-Squared': 0.9734482275535332, 'Adjusted R-Squared': 0.9729089749216417, 'RMSE': 0.01379350147151564, 'Time taken': 0.14826726913452148}\n",
      "{'Model': 'SVR', 'R-Squared': 0.7458962500333934, 'Adjusted R-Squared': 0.7407355355756577, 'RMSE': 0.04267104747950279, 'Time taken': 0.11995244026184082}\n",
      "{'Model': 'TransformedTargetRegressor', 'R-Squared': 0.9742411130044903, 'Adjusted R-Squared': 0.9737179634620283, 'RMSE': 0.013585990724681639, 'Time taken': 0.035103559494018555}\n"
     ]
    },
    {
     "name": "stderr",
     "output_type": "stream",
     "text": [
      "\r",
      " 95%|█████████▍| 37/39 [00:59<00:01,  1.26it/s]"
     ]
    },
    {
     "name": "stdout",
     "output_type": "stream",
     "text": [
      "{'Model': 'TweedieRegressor', 'R-Squared': 0.6717526689455553, 'Adjusted R-Squared': 0.6650861370769448, 'RMSE': 0.04849850692475896, 'Time taken': 0.10561156272888184}\n"
     ]
    },
    {
     "name": "stderr",
     "output_type": "stream",
     "text": [
      "\r",
      " 97%|█████████▋| 38/39 [01:00<00:00,  1.00it/s]"
     ]
    },
    {
     "name": "stdout",
     "output_type": "stream",
     "text": [
      "{'Model': 'XGBRegressor', 'R-Squared': 0.9782149217694852, 'Adjusted R-Squared': 0.9777724782077436, 'RMSE': 0.01249416763908804, 'Time taken': 1.703658103942871}\n"
     ]
    },
    {
     "name": "stderr",
     "output_type": "stream",
     "text": [
      "100%|██████████| 39/39 [01:01<00:00,  1.57s/it]"
     ]
    },
    {
     "name": "stdout",
     "output_type": "stream",
     "text": [
      "{'Model': 'LGBMRegressor', 'R-Squared': 0.981449205860935, 'Adjusted R-Squared': 0.9810724489200062, 'RMSE': 0.011529461404855711, 'Time taken': 0.29209017753601074}\n",
      "                                        Adjusted R-Squared  \\\n",
      "Model                                                        \n",
      "NuSVR                                                 0.99   \n",
      "HistGradientBoostingRegressor                         0.98   \n",
      "LGBMRegressor                                         0.98   \n",
      "XGBRegressor                                          0.98   \n",
      "TransformedTargetRegressor                            0.97   \n",
      "LinearRegression                                      0.97   \n",
      "Ridge                                                 0.97   \n",
      "RidgeCV                                               0.97   \n",
      "BayesianRidge                                         0.97   \n",
      "LassoLarsIC                                           0.97   \n",
      "LassoCV                                               0.97   \n",
      "ElasticNetCV                                          0.97   \n",
      "LassoLarsCV                                           0.97   \n",
      "SGDRegressor                                          0.97   \n",
      "OrthogonalMatchingPursuitCV                           0.97   \n",
      "GradientBoostingRegressor                             0.97   \n",
      "ExtraTreesRegressor                                   0.97   \n",
      "RandomForestRegressor                                 0.97   \n",
      "BaggingRegressor                                      0.97   \n",
      "HuberRegressor                                        0.96   \n",
      "LinearSVR                                             0.96   \n",
      "DecisionTreeRegressor                                 0.93   \n",
      "LarsCV                                                0.91   \n",
      "ExtraTreeRegressor                                    0.87   \n",
      "AdaBoostRegressor                                     0.84   \n",
      "KNeighborsRegressor                                   0.83   \n",
      "SVR                                                   0.74   \n",
      "GammaRegressor                                        0.67   \n",
      "TweedieRegressor                                      0.67   \n",
      "MLPRegressor                                          0.66   \n",
      "OrthogonalMatchingPursuit                             0.52   \n",
      "LassoLars                                            -0.02   \n",
      "Lasso                                                -0.02   \n",
      "ElasticNet                                           -0.02   \n",
      "DummyRegressor                                       -0.02   \n",
      "Lars                                                 -2.09   \n",
      "GaussianProcessRegressor                             -5.71   \n",
      "KernelRidge                                         -92.99   \n",
      "RANSACRegressor               -978954939893311086788608.00   \n",
      "\n",
      "                                                 R-Squared           RMSE  \\\n",
      "Model                                                                       \n",
      "NuSVR                                                 0.99           0.01   \n",
      "HistGradientBoostingRegressor                         0.98           0.01   \n",
      "LGBMRegressor                                         0.98           0.01   \n",
      "XGBRegressor                                          0.98           0.01   \n",
      "TransformedTargetRegressor                            0.97           0.01   \n",
      "LinearRegression                                      0.97           0.01   \n",
      "Ridge                                                 0.97           0.01   \n",
      "RidgeCV                                               0.97           0.01   \n",
      "BayesianRidge                                         0.97           0.01   \n",
      "LassoLarsIC                                           0.97           0.01   \n",
      "LassoCV                                               0.97           0.01   \n",
      "ElasticNetCV                                          0.97           0.01   \n",
      "LassoLarsCV                                           0.97           0.01   \n",
      "SGDRegressor                                          0.97           0.01   \n",
      "OrthogonalMatchingPursuitCV                           0.97           0.01   \n",
      "GradientBoostingRegressor                             0.97           0.01   \n",
      "ExtraTreesRegressor                                   0.97           0.01   \n",
      "RandomForestRegressor                                 0.97           0.01   \n",
      "BaggingRegressor                                      0.97           0.01   \n",
      "HuberRegressor                                        0.96           0.02   \n",
      "LinearSVR                                             0.96           0.02   \n",
      "DecisionTreeRegressor                                 0.93           0.02   \n",
      "LarsCV                                                0.91           0.03   \n",
      "ExtraTreeRegressor                                    0.87           0.03   \n",
      "AdaBoostRegressor                                     0.85           0.03   \n",
      "KNeighborsRegressor                                   0.83           0.03   \n",
      "SVR                                                   0.75           0.04   \n",
      "GammaRegressor                                        0.67           0.05   \n",
      "TweedieRegressor                                      0.67           0.05   \n",
      "MLPRegressor                                          0.67           0.05   \n",
      "OrthogonalMatchingPursuit                             0.53           0.06   \n",
      "LassoLars                                            -0.00           0.08   \n",
      "Lasso                                                -0.00           0.08   \n",
      "ElasticNet                                           -0.00           0.08   \n",
      "DummyRegressor                                       -0.00           0.08   \n",
      "Lars                                                 -2.03           0.15   \n",
      "GaussianProcessRegressor                             -5.57           0.22   \n",
      "KernelRidge                                         -91.12           0.81   \n",
      "RANSACRegressor               -959468633032875508236288.00 82916919220.01   \n",
      "\n",
      "                               Time Taken  \n",
      "Model                                      \n",
      "NuSVR                               20.19  \n",
      "HistGradientBoostingRegressor        7.78  \n",
      "LGBMRegressor                        0.29  \n",
      "XGBRegressor                         1.70  \n",
      "TransformedTargetRegressor           0.04  \n",
      "LinearRegression                     0.07  \n",
      "Ridge                                0.03  \n",
      "RidgeCV                              0.08  \n",
      "BayesianRidge                        0.09  \n",
      "LassoLarsIC                          0.09  \n",
      "LassoCV                              0.32  \n",
      "ElasticNetCV                         0.51  \n",
      "LassoLarsCV                          0.15  \n",
      "SGDRegressor                         0.15  \n",
      "OrthogonalMatchingPursuitCV          0.04  \n",
      "GradientBoostingRegressor            3.74  \n",
      "ExtraTreesRegressor                  5.12  \n",
      "RandomForestRegressor                4.23  \n",
      "BaggingRegressor                     0.64  \n",
      "HuberRegressor                       0.36  \n",
      "LinearSVR                            0.73  \n",
      "DecisionTreeRegressor                0.20  \n",
      "LarsCV                               0.06  \n",
      "ExtraTreeRegressor                   0.13  \n",
      "AdaBoostRegressor                    1.10  \n",
      "KNeighborsRegressor                  0.12  \n",
      "SVR                                  0.12  \n",
      "GammaRegressor                       0.23  \n",
      "TweedieRegressor                     0.11  \n",
      "MLPRegressor                         2.04  \n",
      "OrthogonalMatchingPursuit            0.02  \n",
      "LassoLars                            0.06  \n",
      "Lasso                                0.03  \n",
      "ElasticNet                           0.06  \n",
      "DummyRegressor                       0.05  \n",
      "Lars                                 0.03  \n",
      "GaussianProcessRegressor             8.42  \n",
      "KernelRidge                          1.75  \n",
      "RANSACRegressor                      0.07  \n"
     ]
    },
    {
     "name": "stderr",
     "output_type": "stream",
     "text": [
      "\n"
     ]
    }
   ],
   "source": [
    "import lazypredict\n",
    "from lazypredict.Supervised import LazyRegressor\n",
    "# Borramos el modelo que tarda mucho\n",
    "del lazypredict.Supervised.REGRESSORS[29:32]    # PassiveAggressiveRegressor, PoissonRegressor, QuantileRegressor\n",
    "reg = LazyRegressor(verbose=1, ignore_warnings=False, custom_metric=None)\n",
    "models, predictions = reg.fit(X_train_s, X_test_s, y_train, y_test)\n",
    "\n",
    "print(models)"
   ]
  }
 ],
 "metadata": {
  "colab": {
   "provenance": [],
   "toc_visible": true
  },
  "kernelspec": {
   "display_name": "Python 3 (ipykernel)",
   "language": "python",
   "name": "python3"
  },
  "language_info": {
   "name": "python"
  }
 },
 "nbformat": 4,
 "nbformat_minor": 1
}
