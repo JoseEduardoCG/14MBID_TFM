{
 "cells": [
  {
   "cell_type": "markdown",
   "metadata": {
    "id": "055Oz_GnTUo5"
   },
   "source": [
    "#Introducción\n",
    "---\n",
    "TFM: Aplicación de ciencia de datos en el sector de producción animal para la predicción y explicación de óptimos en ganado porcino.\n",
    "\n",
    "*Titulo*: **Evaluación del Modelo Final**\n",
    "\n",
    "*Autor*: **Jose Eduardo Cámara Gómez**\n",
    "\n",
    "---"
   ]
  },
  {
   "cell_type": "markdown",
   "metadata": {
    "id": "6WXwLfg4UDof"
   },
   "source": [
    "## Importar paquetes"
   ]
  },
  {
   "cell_type": "code",
   "execution_count": 1,
   "metadata": {
    "id": "Cy9CUMrFTOS-"
   },
   "outputs": [],
   "source": [
    "import pandas as pd\n",
    "import numpy as np\n",
    "import matplotlib.pyplot as plt\n",
    "import seaborn as sns\n",
    "\n",
    "sns.set(style=\"darkgrid\")"
   ]
  },
  {
   "cell_type": "code",
   "execution_count": 2,
   "metadata": {
    "colab": {
     "base_uri": "https://localhost:8080/",
     "height": 73
    },
    "id": "qf4tUh-UUQoX",
    "outputId": "013e09f4-6367-466c-febe-4b566ea745f7"
   },
   "outputs": [
    {
     "data": {
      "text/html": [
       "\n",
       "     <input type=\"file\" id=\"files-12f75407-507a-4ba7-8252-fdc1287ac787\" name=\"files[]\" multiple disabled\n",
       "        style=\"border:none\" />\n",
       "     <output id=\"result-12f75407-507a-4ba7-8252-fdc1287ac787\">\n",
       "      Upload widget is only available when the cell has been executed in the\n",
       "      current browser session. Please rerun this cell to enable.\n",
       "      </output>\n",
       "      <script>// Copyright 2017 Google LLC\n",
       "//\n",
       "// Licensed under the Apache License, Version 2.0 (the \"License\");\n",
       "// you may not use this file except in compliance with the License.\n",
       "// You may obtain a copy of the License at\n",
       "//\n",
       "//      http://www.apache.org/licenses/LICENSE-2.0\n",
       "//\n",
       "// Unless required by applicable law or agreed to in writing, software\n",
       "// distributed under the License is distributed on an \"AS IS\" BASIS,\n",
       "// WITHOUT WARRANTIES OR CONDITIONS OF ANY KIND, either express or implied.\n",
       "// See the License for the specific language governing permissions and\n",
       "// limitations under the License.\n",
       "\n",
       "/**\n",
       " * @fileoverview Helpers for google.colab Python module.\n",
       " */\n",
       "(function(scope) {\n",
       "function span(text, styleAttributes = {}) {\n",
       "  const element = document.createElement('span');\n",
       "  element.textContent = text;\n",
       "  for (const key of Object.keys(styleAttributes)) {\n",
       "    element.style[key] = styleAttributes[key];\n",
       "  }\n",
       "  return element;\n",
       "}\n",
       "\n",
       "// Max number of bytes which will be uploaded at a time.\n",
       "const MAX_PAYLOAD_SIZE = 100 * 1024;\n",
       "\n",
       "function _uploadFiles(inputId, outputId) {\n",
       "  const steps = uploadFilesStep(inputId, outputId);\n",
       "  const outputElement = document.getElementById(outputId);\n",
       "  // Cache steps on the outputElement to make it available for the next call\n",
       "  // to uploadFilesContinue from Python.\n",
       "  outputElement.steps = steps;\n",
       "\n",
       "  return _uploadFilesContinue(outputId);\n",
       "}\n",
       "\n",
       "// This is roughly an async generator (not supported in the browser yet),\n",
       "// where there are multiple asynchronous steps and the Python side is going\n",
       "// to poll for completion of each step.\n",
       "// This uses a Promise to block the python side on completion of each step,\n",
       "// then passes the result of the previous step as the input to the next step.\n",
       "function _uploadFilesContinue(outputId) {\n",
       "  const outputElement = document.getElementById(outputId);\n",
       "  const steps = outputElement.steps;\n",
       "\n",
       "  const next = steps.next(outputElement.lastPromiseValue);\n",
       "  return Promise.resolve(next.value.promise).then((value) => {\n",
       "    // Cache the last promise value to make it available to the next\n",
       "    // step of the generator.\n",
       "    outputElement.lastPromiseValue = value;\n",
       "    return next.value.response;\n",
       "  });\n",
       "}\n",
       "\n",
       "/**\n",
       " * Generator function which is called between each async step of the upload\n",
       " * process.\n",
       " * @param {string} inputId Element ID of the input file picker element.\n",
       " * @param {string} outputId Element ID of the output display.\n",
       " * @return {!Iterable<!Object>} Iterable of next steps.\n",
       " */\n",
       "function* uploadFilesStep(inputId, outputId) {\n",
       "  const inputElement = document.getElementById(inputId);\n",
       "  inputElement.disabled = false;\n",
       "\n",
       "  const outputElement = document.getElementById(outputId);\n",
       "  outputElement.innerHTML = '';\n",
       "\n",
       "  const pickedPromise = new Promise((resolve) => {\n",
       "    inputElement.addEventListener('change', (e) => {\n",
       "      resolve(e.target.files);\n",
       "    });\n",
       "  });\n",
       "\n",
       "  const cancel = document.createElement('button');\n",
       "  inputElement.parentElement.appendChild(cancel);\n",
       "  cancel.textContent = 'Cancel upload';\n",
       "  const cancelPromise = new Promise((resolve) => {\n",
       "    cancel.onclick = () => {\n",
       "      resolve(null);\n",
       "    };\n",
       "  });\n",
       "\n",
       "  // Wait for the user to pick the files.\n",
       "  const files = yield {\n",
       "    promise: Promise.race([pickedPromise, cancelPromise]),\n",
       "    response: {\n",
       "      action: 'starting',\n",
       "    }\n",
       "  };\n",
       "\n",
       "  cancel.remove();\n",
       "\n",
       "  // Disable the input element since further picks are not allowed.\n",
       "  inputElement.disabled = true;\n",
       "\n",
       "  if (!files) {\n",
       "    return {\n",
       "      response: {\n",
       "        action: 'complete',\n",
       "      }\n",
       "    };\n",
       "  }\n",
       "\n",
       "  for (const file of files) {\n",
       "    const li = document.createElement('li');\n",
       "    li.append(span(file.name, {fontWeight: 'bold'}));\n",
       "    li.append(span(\n",
       "        `(${file.type || 'n/a'}) - ${file.size} bytes, ` +\n",
       "        `last modified: ${\n",
       "            file.lastModifiedDate ? file.lastModifiedDate.toLocaleDateString() :\n",
       "                                    'n/a'} - `));\n",
       "    const percent = span('0% done');\n",
       "    li.appendChild(percent);\n",
       "\n",
       "    outputElement.appendChild(li);\n",
       "\n",
       "    const fileDataPromise = new Promise((resolve) => {\n",
       "      const reader = new FileReader();\n",
       "      reader.onload = (e) => {\n",
       "        resolve(e.target.result);\n",
       "      };\n",
       "      reader.readAsArrayBuffer(file);\n",
       "    });\n",
       "    // Wait for the data to be ready.\n",
       "    let fileData = yield {\n",
       "      promise: fileDataPromise,\n",
       "      response: {\n",
       "        action: 'continue',\n",
       "      }\n",
       "    };\n",
       "\n",
       "    // Use a chunked sending to avoid message size limits. See b/62115660.\n",
       "    let position = 0;\n",
       "    do {\n",
       "      const length = Math.min(fileData.byteLength - position, MAX_PAYLOAD_SIZE);\n",
       "      const chunk = new Uint8Array(fileData, position, length);\n",
       "      position += length;\n",
       "\n",
       "      const base64 = btoa(String.fromCharCode.apply(null, chunk));\n",
       "      yield {\n",
       "        response: {\n",
       "          action: 'append',\n",
       "          file: file.name,\n",
       "          data: base64,\n",
       "        },\n",
       "      };\n",
       "\n",
       "      let percentDone = fileData.byteLength === 0 ?\n",
       "          100 :\n",
       "          Math.round((position / fileData.byteLength) * 100);\n",
       "      percent.textContent = `${percentDone}% done`;\n",
       "\n",
       "    } while (position < fileData.byteLength);\n",
       "  }\n",
       "\n",
       "  // All done.\n",
       "  yield {\n",
       "    response: {\n",
       "      action: 'complete',\n",
       "    }\n",
       "  };\n",
       "}\n",
       "\n",
       "scope.google = scope.google || {};\n",
       "scope.google.colab = scope.google.colab || {};\n",
       "scope.google.colab._files = {\n",
       "  _uploadFiles,\n",
       "  _uploadFilesContinue,\n",
       "};\n",
       "})(self);\n",
       "</script> "
      ],
      "text/plain": [
       "<IPython.core.display.HTML object>"
      ]
     },
     "metadata": {},
     "output_type": "display_data"
    },
    {
     "name": "stdout",
     "output_type": "stream",
     "text": [
      "Saving gmd_02.csv to gmd_02.csv\n"
     ]
    }
   ],
   "source": [
    "from google.colab import files\n",
    "# Cargamos el fichero del dataset gmd_02.csv\n",
    "uploaded = files.upload()\n",
    "# Leemos el fichero csv con los datos\n",
    "df = pd.read_csv('gmd_02.csv', sep=';')\n",
    "# Revisar la raza si se agrupan las razas con menos ocurrencias\n",
    "agrupar_razas = {93 : 93, 85 : 93, 90 : 93, 95 : 93, 94 : 93, 82 : 93, 80 : 80, 96 : 80, 88 : 88, 0 : 0, 23 : 0,\n",
    "                 84 : 0, 66 : 0, 18 : 0, 68 : 88, 7 : 7, 89 : 7, 65 : 7, 15 : 15, 97 : 7, 69 : 69, 81 : 81}\n",
    "df.replace({'ct_raza' : agrupar_razas}, inplace=True)\n",
    "df[\"bajas\"] = df[\"NumBajas\"] / (df[\"NumAnimales\"] * df[\"DiasMedios\"])\n",
    "# Convertimos los tipos\n",
    "df[\"ct_integra\"] = df[\"ct_integra\"].astype(\"category\")\n",
    "#df[\"ct_tipo\"] = df[\"ct_tipo\"].astype(\"category\")\n",
    "df[\"ct_raza\"] = df[\"ct_raza\"].astype(\"category\")\n",
    "df[\"ct_fase\"] = df[\"ct_fase\"].astype(\"category\")\n",
    "df['EntradaInicial']= pd.to_datetime(df['EntradaInicial'])\n",
    "df['EntradaFinal']= pd.to_datetime(df['EntradaFinal'])\n",
    "df[\"na_rega\"] = df[\"na_rega\"].astype(\"category\")\n",
    "df[\"NumBajas\"] = df[\"NumBajas\"].astype(\"int64\")\n",
    "df[\"gr_codpos\"] = df[\"gr_codpos\"].astype(\"category\")\n",
    "df[\"gr_poblacion\"] = df[\"gr_poblacion\"].astype(\"category\")\n",
    "df[\"na_nombre2\"] = df[\"na_nombre2\"].astype(\"category\")\n",
    "\n",
    "# Funcion para convertir en One Hot Encoding\n",
    "def encode_and_bind(original_dataframe, feature_to_encode):\n",
    "    dummies = pd.get_dummies(original_dataframe[[feature_to_encode]])\n",
    "    res = pd.concat([original_dataframe, dummies], axis=1)\n",
    "    res = res.drop([feature_to_encode], axis=1)\n",
    "    return(res)\n",
    "# Cargamos las variables objetivo y las usadas (15 variables seleccionadas, una de ellas categórica con 8 valores).\n",
    "y = df['GMD']\n",
    "x0 = df[['ct_integra','ct_tipo', 'ct_raza', 'IncPeso', 'NumAnimales', 'na_rega', \n",
    "         'PesoEntMedio', 'PesoRecMedio', 'bajas', 'GPS_Longitud', 'GPS_Latitud', \n",
    "         'semanaEntrada', 'añoEntrada', 'PorcHembras', 'PiensoCerdaDia']]\n",
    "features_to_encode = ['ct_raza']   # , 'na_rega']\n",
    "x1 = x0.copy()\n",
    "x1.drop(['ct_integra','na_rega'], inplace=True, axis=1)\n",
    "for feature in features_to_encode:\n",
    "    x1 = encode_and_bind(x1, feature)"
   ]
  },
  {
   "cell_type": "code",
   "execution_count": 3,
   "metadata": {
    "id": "qkCwDRlrUYrA"
   },
   "outputs": [],
   "source": [
    "from sklearn.model_selection import train_test_split\n",
    "from sklearn.preprocessing import RobustScaler\n",
    "X_train, X_test, y_train, y_test = train_test_split(x1, y, test_size = 0.2, random_state = 123)\n",
    "# Vemos de escalar las variables para que no se vean influenciadas por los outliers.\n",
    "scaler = RobustScaler()\n",
    "scaler.fit(X_train)\n",
    "X_train_s = scaler.transform(X_train)\n",
    "X_test_s = scaler.transform(X_test)"
   ]
  },
  {
   "cell_type": "markdown",
   "metadata": {
    "id": "cNHmPn3UVHCI"
   },
   "source": [
    "## Cargamos el mejor modelo"
   ]
  },
  {
   "cell_type": "code",
   "execution_count": 4,
   "metadata": {
    "colab": {
     "base_uri": "https://localhost:8080/",
     "height": 73
    },
    "id": "LWiWrrlOVENm",
    "outputId": "e29ded35-8717-4d78-fb6e-50d8b9513c6d"
   },
   "outputs": [
    {
     "data": {
      "text/html": [
       "\n",
       "     <input type=\"file\" id=\"files-fdd7831b-78c1-49c6-871a-519bcd522d8b\" name=\"files[]\" multiple disabled\n",
       "        style=\"border:none\" />\n",
       "     <output id=\"result-fdd7831b-78c1-49c6-871a-519bcd522d8b\">\n",
       "      Upload widget is only available when the cell has been executed in the\n",
       "      current browser session. Please rerun this cell to enable.\n",
       "      </output>\n",
       "      <script>// Copyright 2017 Google LLC\n",
       "//\n",
       "// Licensed under the Apache License, Version 2.0 (the \"License\");\n",
       "// you may not use this file except in compliance with the License.\n",
       "// You may obtain a copy of the License at\n",
       "//\n",
       "//      http://www.apache.org/licenses/LICENSE-2.0\n",
       "//\n",
       "// Unless required by applicable law or agreed to in writing, software\n",
       "// distributed under the License is distributed on an \"AS IS\" BASIS,\n",
       "// WITHOUT WARRANTIES OR CONDITIONS OF ANY KIND, either express or implied.\n",
       "// See the License for the specific language governing permissions and\n",
       "// limitations under the License.\n",
       "\n",
       "/**\n",
       " * @fileoverview Helpers for google.colab Python module.\n",
       " */\n",
       "(function(scope) {\n",
       "function span(text, styleAttributes = {}) {\n",
       "  const element = document.createElement('span');\n",
       "  element.textContent = text;\n",
       "  for (const key of Object.keys(styleAttributes)) {\n",
       "    element.style[key] = styleAttributes[key];\n",
       "  }\n",
       "  return element;\n",
       "}\n",
       "\n",
       "// Max number of bytes which will be uploaded at a time.\n",
       "const MAX_PAYLOAD_SIZE = 100 * 1024;\n",
       "\n",
       "function _uploadFiles(inputId, outputId) {\n",
       "  const steps = uploadFilesStep(inputId, outputId);\n",
       "  const outputElement = document.getElementById(outputId);\n",
       "  // Cache steps on the outputElement to make it available for the next call\n",
       "  // to uploadFilesContinue from Python.\n",
       "  outputElement.steps = steps;\n",
       "\n",
       "  return _uploadFilesContinue(outputId);\n",
       "}\n",
       "\n",
       "// This is roughly an async generator (not supported in the browser yet),\n",
       "// where there are multiple asynchronous steps and the Python side is going\n",
       "// to poll for completion of each step.\n",
       "// This uses a Promise to block the python side on completion of each step,\n",
       "// then passes the result of the previous step as the input to the next step.\n",
       "function _uploadFilesContinue(outputId) {\n",
       "  const outputElement = document.getElementById(outputId);\n",
       "  const steps = outputElement.steps;\n",
       "\n",
       "  const next = steps.next(outputElement.lastPromiseValue);\n",
       "  return Promise.resolve(next.value.promise).then((value) => {\n",
       "    // Cache the last promise value to make it available to the next\n",
       "    // step of the generator.\n",
       "    outputElement.lastPromiseValue = value;\n",
       "    return next.value.response;\n",
       "  });\n",
       "}\n",
       "\n",
       "/**\n",
       " * Generator function which is called between each async step of the upload\n",
       " * process.\n",
       " * @param {string} inputId Element ID of the input file picker element.\n",
       " * @param {string} outputId Element ID of the output display.\n",
       " * @return {!Iterable<!Object>} Iterable of next steps.\n",
       " */\n",
       "function* uploadFilesStep(inputId, outputId) {\n",
       "  const inputElement = document.getElementById(inputId);\n",
       "  inputElement.disabled = false;\n",
       "\n",
       "  const outputElement = document.getElementById(outputId);\n",
       "  outputElement.innerHTML = '';\n",
       "\n",
       "  const pickedPromise = new Promise((resolve) => {\n",
       "    inputElement.addEventListener('change', (e) => {\n",
       "      resolve(e.target.files);\n",
       "    });\n",
       "  });\n",
       "\n",
       "  const cancel = document.createElement('button');\n",
       "  inputElement.parentElement.appendChild(cancel);\n",
       "  cancel.textContent = 'Cancel upload';\n",
       "  const cancelPromise = new Promise((resolve) => {\n",
       "    cancel.onclick = () => {\n",
       "      resolve(null);\n",
       "    };\n",
       "  });\n",
       "\n",
       "  // Wait for the user to pick the files.\n",
       "  const files = yield {\n",
       "    promise: Promise.race([pickedPromise, cancelPromise]),\n",
       "    response: {\n",
       "      action: 'starting',\n",
       "    }\n",
       "  };\n",
       "\n",
       "  cancel.remove();\n",
       "\n",
       "  // Disable the input element since further picks are not allowed.\n",
       "  inputElement.disabled = true;\n",
       "\n",
       "  if (!files) {\n",
       "    return {\n",
       "      response: {\n",
       "        action: 'complete',\n",
       "      }\n",
       "    };\n",
       "  }\n",
       "\n",
       "  for (const file of files) {\n",
       "    const li = document.createElement('li');\n",
       "    li.append(span(file.name, {fontWeight: 'bold'}));\n",
       "    li.append(span(\n",
       "        `(${file.type || 'n/a'}) - ${file.size} bytes, ` +\n",
       "        `last modified: ${\n",
       "            file.lastModifiedDate ? file.lastModifiedDate.toLocaleDateString() :\n",
       "                                    'n/a'} - `));\n",
       "    const percent = span('0% done');\n",
       "    li.appendChild(percent);\n",
       "\n",
       "    outputElement.appendChild(li);\n",
       "\n",
       "    const fileDataPromise = new Promise((resolve) => {\n",
       "      const reader = new FileReader();\n",
       "      reader.onload = (e) => {\n",
       "        resolve(e.target.result);\n",
       "      };\n",
       "      reader.readAsArrayBuffer(file);\n",
       "    });\n",
       "    // Wait for the data to be ready.\n",
       "    let fileData = yield {\n",
       "      promise: fileDataPromise,\n",
       "      response: {\n",
       "        action: 'continue',\n",
       "      }\n",
       "    };\n",
       "\n",
       "    // Use a chunked sending to avoid message size limits. See b/62115660.\n",
       "    let position = 0;\n",
       "    do {\n",
       "      const length = Math.min(fileData.byteLength - position, MAX_PAYLOAD_SIZE);\n",
       "      const chunk = new Uint8Array(fileData, position, length);\n",
       "      position += length;\n",
       "\n",
       "      const base64 = btoa(String.fromCharCode.apply(null, chunk));\n",
       "      yield {\n",
       "        response: {\n",
       "          action: 'append',\n",
       "          file: file.name,\n",
       "          data: base64,\n",
       "        },\n",
       "      };\n",
       "\n",
       "      let percentDone = fileData.byteLength === 0 ?\n",
       "          100 :\n",
       "          Math.round((position / fileData.byteLength) * 100);\n",
       "      percent.textContent = `${percentDone}% done`;\n",
       "\n",
       "    } while (position < fileData.byteLength);\n",
       "  }\n",
       "\n",
       "  // All done.\n",
       "  yield {\n",
       "    response: {\n",
       "      action: 'complete',\n",
       "    }\n",
       "  };\n",
       "}\n",
       "\n",
       "scope.google = scope.google || {};\n",
       "scope.google.colab = scope.google.colab || {};\n",
       "scope.google.colab._files = {\n",
       "  _uploadFiles,\n",
       "  _uploadFilesContinue,\n",
       "};\n",
       "})(self);\n",
       "</script> "
      ],
      "text/plain": [
       "<IPython.core.display.HTML object>"
      ]
     },
     "metadata": {},
     "output_type": "display_data"
    },
    {
     "name": "stdout",
     "output_type": "stream",
     "text": [
      "Saving lightgbm.model.txt to lightgbm.model.txt\n"
     ]
    }
   ],
   "source": [
    "import lightgbm as lgb\n",
    "# Cargamos el fichero del modelo lightgbm.model.txt\n",
    "uploaded = files.upload()\n",
    "model2 = lgb.Booster(model_file='lightgbm.model.txt')\n",
    "\n",
    "y_pred = model2.predict(X_test_s)"
   ]
  },
  {
   "cell_type": "markdown",
   "metadata": {
    "id": "Akq2KcQ4UrMp"
   },
   "source": [
    "# Comprobar criterios de Éxito"
   ]
  },
  {
   "cell_type": "markdown",
   "metadata": {
    "id": "sxbh_RYjUzhW"
   },
   "source": [
    "## El 95% de los datos estimados de GMD se desvíe menos del 10%."
   ]
  },
  {
   "cell_type": "code",
   "execution_count": 5,
   "metadata": {
    "colab": {
     "base_uri": "https://localhost:8080/"
    },
    "id": "IVYfoY7MUuzW",
    "outputId": "26def70a-2999-46c6-b12c-10d054870704"
   },
   "outputs": [
    {
     "name": "stdout",
     "output_type": "stream",
     "text": [
      "Hay 16 predicciones que fallan por encima del 10%, siendo un 1.52 % del total\n"
     ]
    }
   ],
   "source": [
    "# Vemos las diferencias los valores redichos\n",
    "diferencias = abs(y_pred - y_test)\n",
    "# Vemos las filas de test que se desvían más del 10% (diferencia >= 0.085).\n",
    "dif_10 = diferencias[lambda x: x>=0.085]\n",
    "print(\"Hay\",len(dif_10),\"predicciones que fallan por encima del 10%, siendo un\",round(100*len(dif_10)/len(diferencias),2),\"% del total\")"
   ]
  },
  {
   "cell_type": "markdown",
   "metadata": {
    "id": "HiXDTjGVWnl0"
   },
   "source": [
    "## Estimación de número de animales por semana "
   ]
  },
  {
   "cell_type": "code",
   "execution_count": 6,
   "metadata": {
    "id": "pyYk8FNoWxec"
   },
   "outputs": [],
   "source": [
    "# Estimamos el valor de GMD para todos los datos y los reagrupamos en un Datafreme llamado datos\n",
    "y_pred_tst = model2.predict(X_test_s)\n",
    "y_pred_tr = model2.predict(X_train_s)\n",
    "train = X_train.copy(); train[\"GMD_real\"] = y_train; train[\"GMD_pred\"] = y_pred_tr\n",
    "test = X_test.copy(); test[\"GMD_real\"] = y_test; test[\"GMD_pred\"] = y_pred_tst\n",
    "datos = pd.concat([train,test], axis=0)\n",
    "# Calculamos los días de recogida con ambos GMD y la diferencia\n",
    "datos[\"semanas_rec_real\"] = (round((datos[\"IncPeso\"] / datos[\"GMD_real\"]) / 7,0)) + datos[\"semanaEntrada\"]\n",
    "datos[\"semanas_rec_pred\"] = (round((datos[\"IncPeso\"] / datos[\"GMD_pred\"]) / 7,0)) + datos[\"semanaEntrada\"]"
   ]
  },
  {
   "cell_type": "code",
   "execution_count": 8,
   "metadata": {
    "colab": {
     "base_uri": "https://localhost:8080/"
    },
    "id": "nwDL5og2j13a",
    "outputId": "b87154c9-3475-43d2-be47-269307914fde"
   },
   "outputs": [
    {
     "name": "stdout",
     "output_type": "stream",
     "text": [
      "Total animales seleccionados 415658 animales\n"
     ]
    }
   ],
   "source": [
    "# Seleccionamos los datos con los que hacer la comparación, un intervalo de 10 semanas para el final de lo datos (248 contratos y 415658 animales).\n",
    "datos_sel = datos[((datos.añoEntrada==2021)&(datos.semanas_rec_real>=30)&(datos.semanas_rec_real<40)&(datos.semanas_rec_pred>=30)&(datos.semanas_rec_pred<40))]\n",
    "print(\"Total animales seleccionados\",datos_sel.NumAnimales.sum(),\"animales\")"
   ]
  },
  {
   "cell_type": "code",
   "execution_count": 9,
   "metadata": {
    "colab": {
     "base_uri": "https://localhost:8080/",
     "height": 485
    },
    "id": "tCNiEA1WFeqp",
    "outputId": "e9701cf1-a3ae-4278-f2fa-ef504afb5fff"
   },
   "outputs": [
    {
     "data": {
      "image/png": "[encoded data removed]",
      "text/plain": [
       "<Figure size 640x480 with 1 Axes>"
      ]
     },
     "metadata": {},
     "output_type": "display_data"
    }
   ],
   "source": [
    "# Agrupamos los animales por semanas\n",
    "animSemanaReal = datos_sel.groupby([\"semanas_rec_real\"])[\"NumAnimales\"].sum()\n",
    "animSemanaPred = datos_sel.groupby([\"semanas_rec_pred\"])[\"NumAnimales\"].sum()\n",
    "# Juntamos en un mismo Dataframe\n",
    "animSemanas = pd.concat([animSemanaReal,animSemanaPred], axis=1)\n",
    "animSemanas.columns = [\"Real\", \"Pred\"]; animSemanas.index = animSemanas.index.astype(\"int\")\n",
    "# Graficamos los resultados de la agrupación de animales real frente a la Predicha\n",
    "animSemanas.plot(kind=\"bar\")\n",
    "plt.title(\"Animales por Semanas Reales vs Predichos\")\n",
    "plt.ylabel(\"Número de Animales\")\n",
    "plt.xlabel(\"Semana\")\n",
    "plt.show()"
   ]
  },
  {
   "cell_type": "code",
   "execution_count": 23,
   "metadata": {
    "colab": {
     "base_uri": "https://localhost:8080/",
     "height": 502
    },
    "id": "QPYrIONsIiW8",
    "outputId": "8975060a-2af6-4ba2-989e-007c460d79e2"
   },
   "outputs": [
    {
     "name": "stdout",
     "output_type": "stream",
     "text": [
      "La media de la diferencia de animales es 4.382367 %\n"
     ]
    },
    {
     "data": {
      "image/png": "[encoded data removed]",
      "text/plain": [
       "<Figure size 640x480 with 1 Axes>"
      ]
     },
     "metadata": {},
     "output_type": "display_data"
    }
   ],
   "source": [
    "# Vemos las diferencias por semanas\n",
    "dif = round(100 * abs(animSemanas[\"Real\"] - animSemanas[\"Pred\"]) / animSemanas[\"Real\"],5)\n",
    "print(\"La media de la diferencia de animales es\",dif.mean(),\"%\")\n",
    "ax = dif.plot(kind=\"bar\")\n",
    "for p in ax.patches:\n",
    "    ax.annotate(str(round(p.get_height(),3)), (p.get_x() * 1.005, p.get_height() * 1.005), rotation=60)\n",
    "ax.axhline(dif.mean(), c=\"r\")\n",
    "ax.text(-1.2, dif.mean()+0.1, str(round(dif.mean(),2))+\" Media\", c=\"r\")\n",
    "plt.title(\"% Diferencia de animales por semana\")\n",
    "plt.xlabel(\"Número de Semana\")\n",
    "plt.ylabel(\"% Diferencia nº animales Predichos y Reales\")\n",
    "plt.ylim((0,10))\n",
    "plt.show()"
   ]
  },
  {
   "cell_type": "code",
   "execution_count": 24,
   "metadata": {
    "id": "CX3QYH8rRJjp"
   },
   "outputs": [],
   "source": [
    "datos.to_csv(\"gmd_03.csv\")"
   ]
  }
 ],
 "metadata": {
  "colab": {
   "provenance": []
  },
  "kernelspec": {
   "display_name": "Python 3 (ipykernel)",
   "language": "python",
   "name": "python3"
  },
  "language_info": {
   "name": "python"
  }
 },
 "nbformat": 4,
 "nbformat_minor": 1
}
